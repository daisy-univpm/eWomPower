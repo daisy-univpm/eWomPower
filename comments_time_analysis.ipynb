{
 "cells": [
  {
   "cell_type": "code",
   "execution_count": null,
   "metadata": {},
   "outputs": [],
   "source": [
    "import pandas as pd\n",
    "import ndjson\n",
    "import ijson\n",
    "import os\n",
    "import praw\n",
    "import multiprocessing\n",
    "import os\n",
    "import gzip\n",
    "import powerlaw\n",
    "import datetime\n",
    "from pandarallel import pandarallel\n",
    "import matplotlib.pyplot as plt"
   ]
  },
  {
   "cell_type": "code",
   "execution_count": null,
   "metadata": {},
   "outputs": [],
   "source": [
    "comments_temporal = pd.read_csv('dataset/comments_temporal.csv', header=0)\n",
    "comments_temporal.head()"
   ]
  },
  {
   "cell_type": "code",
   "execution_count": null,
   "metadata": {},
   "outputs": [],
   "source": [
    "comments_temporal['comments_day'] = comments_temporal['comments_day'].str.strip('[] ').str.split(',')"
   ]
  },
  {
   "cell_type": "code",
   "execution_count": null,
   "metadata": {},
   "outputs": [],
   "source": [
    "comments_temporal['life_span'] = comments_temporal.apply(lambda row: len(row[1]), axis=1)\n",
    "comments_temporal.head()"
   ]
  },
  {
   "cell_type": "code",
   "execution_count": null,
   "metadata": {},
   "outputs": [],
   "source": [
    "comments_temporal['comments'] = comments_temporal.apply(lambda row: sum(map(int, row[1])), axis=1)\n",
    "comments_temporal.head()"
   ]
  },
  {
   "cell_type": "code",
   "execution_count": null,
   "metadata": {},
   "outputs": [],
   "source": [
    "comments_temporal.to_csv('dataset/comments_temporal.csv', index=False)"
   ]
  },
  {
   "cell_type": "code",
   "execution_count": null,
   "metadata": {},
   "outputs": [],
   "source": [
    "fig=plt.figure(figsize=(20,10))\n",
    "plt.scatter(list(comments_temporal['life_span']), list(comments_temporal['comments']))\n",
    "plt.xlabel('Life Span')\n",
    "plt.ylabel('Number of comments')\n",
    "plt.show()"
   ]
  },
  {
   "cell_type": "code",
   "execution_count": null,
   "metadata": {},
   "outputs": [],
   "source": [
    "avg_life_span = comments_temporal['life_span'].mean()\n",
    "avg_comments = comments_temporal['comments'].mean()\n",
    "print(avg_life_span,\" \",avg_comments)"
   ]
  },
  {
   "cell_type": "code",
   "execution_count": null,
   "metadata": {},
   "outputs": [],
   "source": [
    "#high lifespan, high comments\n",
    "comments_day = comments_temporal.loc[(comments_temporal['comments']>6000) & (comments_temporal['life_span']>20)].sample(n=1, random_state=1)['comments_day']\n",
    "comments_day = list(comments_day)[0]\n",
    "comments_day = list(map(int, comments_day))\n",
    "print(list(range(1,len(comments_day)+1)),' ',comments_day)\n",
    "fig=plt.figure(figsize=(20,10))\n",
    "plt.plot(list(range(1,len(comments_day)+1)), list(comments_day))\n",
    "plt.xlabel('Days of life')\n",
    "plt.ylabel('Number of comments')\n",
    "plt.show()"
   ]
  },
  {
   "cell_type": "code",
   "execution_count": null,
   "metadata": {},
   "outputs": [],
   "source": [
    "#low lifespan, high comments\n",
    "comments_day = comments_temporal.loc[(comments_temporal['comments']>6000) & (comments_temporal['life_span']<5)].sample(n=1, random_state=1)['comments_day']\n",
    "comments_day = list(comments_day)[0]\n",
    "comments_day = list(map(int, comments_day))\n",
    "fig=plt.figure(figsize=(20,10))\n",
    "plt.plot(list(range(1,len(comments_day)+1)), list(comments_day))\n",
    "plt.xticks(list(range(1,len(comments_day)+1)))\n",
    "plt.xlabel('Days of life')\n",
    "plt.ylabel('Number of comments')\n",
    "plt.show()"
   ]
  },
  {
   "cell_type": "code",
   "execution_count": null,
   "metadata": {},
   "outputs": [],
   "source": [
    "#high lifespan, low comments\n",
    "comments_day = comments_temporal.loc[(comments_temporal['comments']<100) & (comments_temporal['life_span']>20)].sample(n=1, random_state=1)['comments_day']\n",
    "comments_day = list(comments_day)[0]\n",
    "comments_day = list(map(int, comments_day))\n",
    "fig=plt.figure(figsize=(20,10))\n",
    "plt.plot(list(range(1,len(comments_day)+1)), list(comments_day))\n",
    "plt.xticks(list(range(1,len(comments_day)+1)))\n",
    "plt.xlabel('Days of life')\n",
    "plt.ylabel('Number of comments')\n",
    "plt.show()"
   ]
  },
  {
   "cell_type": "code",
   "execution_count": null,
   "metadata": {},
   "outputs": [],
   "source": [
    "#average lifespan, lowest comments\n",
    "comments_day = comments_temporal.loc[(comments_temporal['comments']<20) & (comments_temporal['life_span']>10)].sample(n=1, random_state=1)['comments_day']\n",
    "comments_day = list(comments_day)[0]\n",
    "comments_day = list(map(int, comments_day))\n",
    "fig=plt.figure(figsize=(20,10))\n",
    "plt.plot(list(range(1,len(comments_day)+1)), list(comments_day))\n",
    "plt.xticks(list(range(1,len(comments_day)+1)))\n",
    "plt.yticks(list(comments_day))\n",
    "plt.xlabel('Days of life')\n",
    "plt.ylabel('Number of comments')\n",
    "plt.show()"
   ]
  },
  {
   "cell_type": "code",
   "execution_count": null,
   "metadata": {},
   "outputs": [],
   "source": [
    "#average lifespan, average comments\n",
    "comments_day = comments_temporal.loc[(comments_temporal['comments']>10) & (comments_temporal['life_span'][0]<40) & (comments_temporal['life_span'][1]<30) & (comments_temporal['life_span']>10)].sample(n=1)\n",
    "print(comments_day[\"post_id\"])\n",
    "comments_day = list(comments_day['comments_day'])[0]\n",
    "comments_day = list(map(int, comments_day))\n",
    "fig=plt.figure(figsize=(20,10))\n",
    "plt.plot(list(range(1,len(comments_day)+1)), list(comments_day))\n",
    "plt.xticks(list(range(1,len(comments_day)+1)))\n",
    "#plt.yticks(list(comments_day))\n",
    "plt.xlabel('Days of life')\n",
    "plt.ylabel('Number of comments')\n",
    "plt.show()"
   ]
  }
 ],
 "metadata": {
  "kernelspec": {
   "display_name": "Python 3 (ipykernel)",
   "language": "python",
   "name": "python3"
  },
  "language_info": {
   "codemirror_mode": {
    "name": "ipython",
    "version": 3
   },
   "file_extension": ".py",
   "mimetype": "text/x-python",
   "name": "python",
   "nbconvert_exporter": "python",
   "pygments_lexer": "ipython3",
   "version": "3.9.5"
  }
 },
 "nbformat": 4,
 "nbformat_minor": 2
}
