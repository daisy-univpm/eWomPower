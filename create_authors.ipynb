{
 "cells": [
  {
   "cell_type": "code",
   "execution_count": null,
   "metadata": {},
   "outputs": [],
   "source": [
    "import pandas as pd\n",
    "import ndjson\n",
    "import ijson\n",
    "import os\n",
    "import praw\n",
    "import multiprocessing"
   ]
  },
  {
   "cell_type": "code",
   "execution_count": null,
   "metadata": {},
   "outputs": [],
   "source": [
    "dataset = pd.read_csv('dataset/dataset.csv', header=0)\n",
    "#dataset = pd.read_csv('dataset/feb.csv', header=0)"
   ]
  },
  {
   "cell_type": "code",
   "execution_count": null,
   "metadata": {},
   "outputs": [],
   "source": [
    "authors = dataset[['author_id','author']]\n",
    "authors.drop_duplicates(inplace=True)\n",
    "print(len(authors))\n",
    "authors.head()"
   ]
  },
  {
   "cell_type": "code",
   "execution_count": null,
   "metadata": {},
   "outputs": [],
   "source": [
    "def process_part(authors):\n",
    "    \n",
    "    reddit = praw.Reddit(client_id=\"2CkE8z4bPgIkhQ\",\n",
    "                     client_secret=\"fFIJX43pXxx8LvSQH4KAXMlZoXM\",\n",
    "                     user_agent=\"python:it.ppndrd.scraper:v1 (by u/ppndrd)\")\n",
    "    \n",
    "    authors_dict = {}\n",
    "    authors_dict[\"author_id\"] = []\n",
    "    authors_dict[\"author\"] = []\n",
    "    authors_dict[\"created_utc\"] = []\n",
    "    authors_dict[\"is_gold\"] = []\n",
    "    authors_dict[\"is_suspended\"] = []\n",
    "    authors_dict[\"karma\"] = []\n",
    "\n",
    "    for author in authors.itertuples():\n",
    "        name = author[2]\n",
    "        _id = author[1]\n",
    "        redditor = reddit.redditor(name)\n",
    "\n",
    "        try:\n",
    "            redditor.id\n",
    "\n",
    "            authors_dict[\"author_id\"].append(_id)\n",
    "            authors_dict[\"author\"].append(name)\n",
    "\n",
    "            try:\n",
    "                authors_dict[\"is_suspended\"].append(redditor.is_suspended)\n",
    "                authors_dict[\"created_utc\"].append(0)\n",
    "                authors_dict[\"is_gold\"].append(False)\n",
    "                authors_dict[\"karma\"].append(0)\n",
    "            except:\n",
    "                authors_dict[\"created_utc\"].append(redditor.created_utc)\n",
    "                authors_dict[\"is_gold\"].append(redditor.is_gold)\n",
    "                authors_dict[\"is_suspended\"].append(False)\n",
    "                authors_dict[\"karma\"].append(redditor.link_karma)\n",
    "\n",
    "        except Exception as e:\n",
    "            pass\n",
    "    \n",
    "    return pd.DataFrame.from_dict(authors_dict)"
   ]
  },
  {
   "cell_type": "code",
   "execution_count": null,
   "metadata": {},
   "outputs": [],
   "source": [
    "inputs = []\n",
    "n = 915\n",
    "inputs.append(authors[:10000])\n",
    "for i in range(1,n-1):\n",
    "    inputs.append(authors[i*10000:(i+1)*10000])\n",
    "inputs.append(authors[(n-1)*10000:])"
   ]
  },
  {
   "cell_type": "code",
   "execution_count": null,
   "metadata": {},
   "outputs": [],
   "source": [
    "outputs = []\n",
    "p = multiprocessing.Pool(multiprocessing.cpu_count())\n",
    "outputs = p.map(process_part, inputs)"
   ]
  },
  {
   "cell_type": "code",
   "execution_count": null,
   "metadata": {},
   "outputs": [],
   "source": [
    "authors = pd.concat(outputs)\n",
    "authors.to_csv('dataset/authors.csv', index=False)"
   ]
  },
  {
   "cell_type": "code",
   "execution_count": null,
   "metadata": {},
   "outputs": [],
   "source": [
    "authors.head()"
   ]
  },
  {
   "cell_type": "code",
   "execution_count": null,
   "metadata": {},
   "outputs": [],
   "source": [
    "dataset = pd.read_csv('dataset/dataset.csv', header=0)\n",
    "authors = pd.read_csv('dataset/authors.csv', header=0)"
   ]
  },
  {
   "cell_type": "code",
   "execution_count": null,
   "metadata": {},
   "outputs": [],
   "source": [
    "authors2 = authors.loc[authors['author_id'].isin(set(dataset['author_id']))]\n",
    "print(len(authors2))"
   ]
  },
  {
   "cell_type": "code",
   "execution_count": null,
   "metadata": {},
   "outputs": [],
   "source": [
    "authors2.to_csv('dataset/authors.csv')"
   ]
  }
 ],
 "metadata": {
  "kernelspec": {
   "display_name": "Python 3 (ipykernel)",
   "language": "python",
   "name": "python3"
  },
  "language_info": {
   "codemirror_mode": {
    "name": "ipython",
    "version": 3
   },
   "file_extension": ".py",
   "mimetype": "text/x-python",
   "name": "python",
   "nbconvert_exporter": "python",
   "pygments_lexer": "ipython3",
   "version": "3.9.5"
  }
 },
 "nbformat": 4,
 "nbformat_minor": 2
}
