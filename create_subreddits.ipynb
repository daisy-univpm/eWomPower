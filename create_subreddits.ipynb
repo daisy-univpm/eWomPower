{
 "cells": [
  {
   "cell_type": "code",
   "execution_count": 9,
   "metadata": {},
   "outputs": [],
   "source": [
    "import pandas as pd\n",
    "import ndjson\n",
    "import ijson\n",
    "import os\n",
    "import praw\n",
    "import multiprocessing"
   ]
  },
  {
   "cell_type": "code",
   "execution_count": 4,
   "metadata": {},
   "outputs": [],
   "source": [
    "dataset = pd.read_csv('dataset/dataset.csv', header=0)"
   ]
  },
  {
   "cell_type": "code",
   "execution_count": 5,
   "metadata": {},
   "outputs": [
    {
     "name": "stdout",
     "output_type": "stream",
     "text": [
      "857541\n"
     ]
    },
    {
     "name": "stderr",
     "output_type": "stream",
     "text": [
      "/usr/lib/python3/dist-packages/ipykernel_launcher.py:2: SettingWithCopyWarning: \n",
      "A value is trying to be set on a copy of a slice from a DataFrame\n",
      "\n",
      "See the caveats in the documentation: http://pandas.pydata.org/pandas-docs/stable/user_guide/indexing.html#returning-a-view-versus-a-copy\n",
      "  \n"
     ]
    },
    {
     "data": {
      "text/html": [
       "<div>\n",
       "<style scoped>\n",
       "    .dataframe tbody tr th:only-of-type {\n",
       "        vertical-align: middle;\n",
       "    }\n",
       "\n",
       "    .dataframe tbody tr th {\n",
       "        vertical-align: top;\n",
       "    }\n",
       "\n",
       "    .dataframe thead th {\n",
       "        text-align: right;\n",
       "    }\n",
       "</style>\n",
       "<table border=\"1\" class=\"dataframe\">\n",
       "  <thead>\n",
       "    <tr style=\"text-align: right;\">\n",
       "      <th></th>\n",
       "      <th>subreddit_id</th>\n",
       "      <th>subreddit</th>\n",
       "    </tr>\n",
       "  </thead>\n",
       "  <tbody>\n",
       "    <tr>\n",
       "      <th>0</th>\n",
       "      <td>t5_n9nn1</td>\n",
       "      <td>Market76</td>\n",
       "    </tr>\n",
       "    <tr>\n",
       "      <th>1</th>\n",
       "      <td>t5_2qo4s</td>\n",
       "      <td>nba</td>\n",
       "    </tr>\n",
       "    <tr>\n",
       "      <th>2</th>\n",
       "      <td>t5_31mhn</td>\n",
       "      <td>SakuraGakuin</td>\n",
       "    </tr>\n",
       "    <tr>\n",
       "      <th>3</th>\n",
       "      <td>t5_2qhyq</td>\n",
       "      <td>classicalmusic</td>\n",
       "    </tr>\n",
       "    <tr>\n",
       "      <th>4</th>\n",
       "      <td>t5_2dar36</td>\n",
       "      <td>China_Flu</td>\n",
       "    </tr>\n",
       "  </tbody>\n",
       "</table>\n",
       "</div>"
      ],
      "text/plain": [
       "  subreddit_id       subreddit\n",
       "0     t5_n9nn1        Market76\n",
       "1     t5_2qo4s             nba\n",
       "2     t5_31mhn    SakuraGakuin\n",
       "3     t5_2qhyq  classicalmusic\n",
       "4    t5_2dar36       China_Flu"
      ]
     },
     "execution_count": 5,
     "metadata": {},
     "output_type": "execute_result"
    }
   ],
   "source": [
    "subreddits = dataset[['subreddit_id','subreddit']]\n",
    "subreddits.drop_duplicates(inplace=True)\n",
    "print(len(subreddits))\n",
    "subreddits.head()"
   ]
  },
  {
   "cell_type": "code",
   "execution_count": 6,
   "metadata": {},
   "outputs": [],
   "source": [
    "def process_part(subreddits):\n",
    "    reddit = praw.Reddit(client_id=\"2CkE8z4bPgIkhQ\",\n",
    "                     client_secret=\"fFIJX43pXxx8LvSQH4KAXMlZoXM\",\n",
    "                     user_agent=\"python:it.ppndrd.scraper:v1 (by u/ppndrd)\")\n",
    "    \n",
    "    subs_dict = {}\n",
    "    subs_dict[\"subreddit_id\"] = []\n",
    "    subs_dict[\"subreddit\"] = []\n",
    "    subs_dict[\"created_utc\"] = []\n",
    "    subs_dict[\"description\"] = []\n",
    "    subs_dict[\"over18\"] = []\n",
    "    subs_dict[\"subscribers\"] = []\n",
    "\n",
    "    for sub in subreddits.itertuples():\n",
    "        name = sub[2]\n",
    "        _id = sub[1]\n",
    "        subreddit = reddit.subreddit(name)\n",
    "\n",
    "        try:\n",
    "            subreddit.id\n",
    "\n",
    "            subs_dict[\"subreddit_id\"].append(_id)\n",
    "            subs_dict[\"subreddit\"].append(name)\n",
    "            subs_dict[\"created_utc\"].append(subreddit.created_utc)\n",
    "            subs_dict[\"description\"].append(subreddit.description)\n",
    "            subs_dict[\"over18\"].append(subreddit.over18)\n",
    "            subs_dict[\"subscribers\"].append(subreddit.subscribers)\n",
    "\n",
    "        except:\n",
    "            pass\n",
    "        \n",
    "    return pd.DataFrame.from_dict(subs_dict)"
   ]
  },
  {
   "cell_type": "code",
   "execution_count": 7,
   "metadata": {},
   "outputs": [],
   "source": [
    "inputs = []\n",
    "n = 86\n",
    "inputs.append(subreddits[:10000])\n",
    "for i in range(1,n-1):\n",
    "    inputs.append(subreddits[i*10000:(i+1)*10000])\n",
    "inputs.append(subreddits[(n-1)*10000:])"
   ]
  },
  {
   "cell_type": "code",
   "execution_count": null,
   "metadata": {},
   "outputs": [],
   "source": [
    "outputs = []\n",
    "p = multiprocessing.Pool(multiprocessing.cpu_count())\n",
    "outputs = p.map(process_part, inputs)"
   ]
  },
  {
   "cell_type": "code",
   "execution_count": 16,
   "metadata": {},
   "outputs": [],
   "source": [
    "subreddits = pd.concat(outputs)\n",
    "subreddits.to_csv('dataset/subreddits.csv', index=False)"
   ]
  },
  {
   "cell_type": "code",
   "execution_count": 14,
   "metadata": {},
   "outputs": [
    {
     "name": "stdout",
     "output_type": "stream",
     "text": [
      "fatto\n"
     ]
    }
   ],
   "source": [
    "print('fatto')"
   ]
  },
  {
   "cell_type": "code",
   "execution_count": 17,
   "metadata": {},
   "outputs": [
    {
     "data": {
      "text/plain": [
       "849558"
      ]
     },
     "execution_count": 17,
     "metadata": {},
     "output_type": "execute_result"
    }
   ],
   "source": [
    "len(subreddits)"
   ]
  }
 ],
 "metadata": {
  "kernelspec": {
   "display_name": "Python 3",
   "language": "python",
   "name": "python3"
  },
  "language_info": {
   "codemirror_mode": {
    "name": "ipython",
    "version": 3
   },
   "file_extension": ".py",
   "mimetype": "text/x-python",
   "name": "python",
   "nbconvert_exporter": "python",
   "pygments_lexer": "ipython3",
   "version": "3.6.9"
  }
 },
 "nbformat": 4,
 "nbformat_minor": 2
}
